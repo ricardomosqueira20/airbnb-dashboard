{
 "cells": [
  {
   "cell_type": "code",
   "execution_count": 1,
   "id": "b80bf789",
   "metadata": {
    "execution": {
     "iopub.execute_input": "2025-06-01T01:45:32.615400Z",
     "iopub.status.busy": "2025-06-01T01:45:32.614876Z",
     "iopub.status.idle": "2025-06-01T01:45:35.110902Z",
     "shell.execute_reply": "2025-06-01T01:45:35.109550Z"
    },
    "papermill": {
     "duration": 2.508598,
     "end_time": "2025-06-01T01:45:35.113808",
     "exception": false,
     "start_time": "2025-06-01T01:45:32.605210",
     "status": "completed"
    },
    "tags": []
   },
   "outputs": [
    {
     "name": "stdout",
     "output_type": "stream",
     "text": [
      "Requirement already satisfied: numpy in /Library/Frameworks/Python.framework/Versions/3.10/lib/python3.10/site-packages (2.2.5)\r\n",
      "Requirement already satisfied: pandas in /Library/Frameworks/Python.framework/Versions/3.10/lib/python3.10/site-packages (2.2.3)\r\n",
      "Requirement already satisfied: icalendar in /Library/Frameworks/Python.framework/Versions/3.10/lib/python3.10/site-packages (6.3.1)\r\n",
      "Requirement already satisfied: datetime in /Library/Frameworks/Python.framework/Versions/3.10/lib/python3.10/site-packages (5.5)\r\n",
      "Requirement already satisfied: requests in /Library/Frameworks/Python.framework/Versions/3.10/lib/python3.10/site-packages (2.32.3)\r\n",
      "Requirement already satisfied: gspread in /Library/Frameworks/Python.framework/Versions/3.10/lib/python3.10/site-packages (6.2.1)\r\n",
      "Requirement already satisfied: oauth2client in /Library/Frameworks/Python.framework/Versions/3.10/lib/python3.10/site-packages (4.1.3)\r\n",
      "Requirement already satisfied: streamlit in /Library/Frameworks/Python.framework/Versions/3.10/lib/python3.10/site-packages (1.45.1)\r\n"
     ]
    },
    {
     "name": "stdout",
     "output_type": "stream",
     "text": [
      "Requirement already satisfied: pytz>=2020.1 in /Library/Frameworks/Python.framework/Versions/3.10/lib/python3.10/site-packages (from pandas) (2025.2)\r\n",
      "Requirement already satisfied: tzdata>=2022.7 in /Library/Frameworks/Python.framework/Versions/3.10/lib/python3.10/site-packages (from pandas) (2025.2)\r\n",
      "Requirement already satisfied: python-dateutil>=2.8.2 in /Library/Frameworks/Python.framework/Versions/3.10/lib/python3.10/site-packages (from pandas) (2.9.0.post0)\r\n",
      "Requirement already satisfied: zope.interface in /Library/Frameworks/Python.framework/Versions/3.10/lib/python3.10/site-packages (from datetime) (7.2)\r\n",
      "Requirement already satisfied: idna<4,>=2.5 in /Library/Frameworks/Python.framework/Versions/3.10/lib/python3.10/site-packages (from requests) (3.10)\r\n"
     ]
    },
    {
     "name": "stdout",
     "output_type": "stream",
     "text": [
      "Requirement already satisfied: certifi>=2017.4.17 in /Library/Frameworks/Python.framework/Versions/3.10/lib/python3.10/site-packages (from requests) (2021.10.8)\r\n",
      "Requirement already satisfied: charset-normalizer<4,>=2 in /Library/Frameworks/Python.framework/Versions/3.10/lib/python3.10/site-packages (from requests) (3.4.2)\r\n",
      "Requirement already satisfied: urllib3<3,>=1.21.1 in /Library/Frameworks/Python.framework/Versions/3.10/lib/python3.10/site-packages (from requests) (2.4.0)\r\n",
      "Requirement already satisfied: google-auth-oauthlib>=0.4.1 in /Library/Frameworks/Python.framework/Versions/3.10/lib/python3.10/site-packages (from gspread) (1.2.2)\r\n",
      "Requirement already satisfied: google-auth>=1.12.0 in /Library/Frameworks/Python.framework/Versions/3.10/lib/python3.10/site-packages (from gspread) (2.40.1)\r\n",
      "Requirement already satisfied: six>=1.6.1 in /Library/Frameworks/Python.framework/Versions/3.10/lib/python3.10/site-packages (from oauth2client) (1.17.0)\r\n",
      "Requirement already satisfied: rsa>=3.1.4 in /Library/Frameworks/Python.framework/Versions/3.10/lib/python3.10/site-packages (from oauth2client) (4.9.1)\r\n",
      "Requirement already satisfied: httplib2>=0.9.1 in /Library/Frameworks/Python.framework/Versions/3.10/lib/python3.10/site-packages (from oauth2client) (0.22.0)\r\n",
      "Requirement already satisfied: pyasn1-modules>=0.0.5 in /Library/Frameworks/Python.framework/Versions/3.10/lib/python3.10/site-packages (from oauth2client) (0.4.2)\r\n",
      "Requirement already satisfied: pyasn1>=0.1.7 in /Library/Frameworks/Python.framework/Versions/3.10/lib/python3.10/site-packages (from oauth2client) (0.6.1)\r\n"
     ]
    },
    {
     "name": "stdout",
     "output_type": "stream",
     "text": [
      "Requirement already satisfied: cachetools<6,>=4.0 in /Library/Frameworks/Python.framework/Versions/3.10/lib/python3.10/site-packages (from streamlit) (5.5.2)\r\n",
      "Requirement already satisfied: blinker<2,>=1.5.0 in /Library/Frameworks/Python.framework/Versions/3.10/lib/python3.10/site-packages (from streamlit) (1.9.0)\r\n",
      "Requirement already satisfied: packaging<25,>=20 in /Library/Frameworks/Python.framework/Versions/3.10/lib/python3.10/site-packages (from streamlit) (24.2)\r\n",
      "Requirement already satisfied: pillow<12,>=7.1.0 in /Library/Frameworks/Python.framework/Versions/3.10/lib/python3.10/site-packages (from streamlit) (11.2.1)\r\n",
      "Requirement already satisfied: gitpython!=3.1.19,<4,>=3.0.7 in /Library/Frameworks/Python.framework/Versions/3.10/lib/python3.10/site-packages (from streamlit) (3.1.44)\r\n",
      "Requirement already satisfied: protobuf<7,>=3.20 in /Library/Frameworks/Python.framework/Versions/3.10/lib/python3.10/site-packages (from streamlit) (6.31.0)\r\n",
      "Requirement already satisfied: altair<6,>=4.0 in /Library/Frameworks/Python.framework/Versions/3.10/lib/python3.10/site-packages (from streamlit) (5.5.0)\r\n",
      "Requirement already satisfied: pyarrow>=7.0 in /Library/Frameworks/Python.framework/Versions/3.10/lib/python3.10/site-packages (from streamlit) (20.0.0)\r\n",
      "Requirement already satisfied: tenacity<10,>=8.1.0 in /Library/Frameworks/Python.framework/Versions/3.10/lib/python3.10/site-packages (from streamlit) (9.1.2)\r\n",
      "Requirement already satisfied: toml<2,>=0.10.1 in /Library/Frameworks/Python.framework/Versions/3.10/lib/python3.10/site-packages (from streamlit) (0.10.2)\r\n",
      "Requirement already satisfied: tornado<7,>=6.0.3 in /Library/Frameworks/Python.framework/Versions/3.10/lib/python3.10/site-packages (from streamlit) (6.4.2)\r\n",
      "Requirement already satisfied: typing-extensions<5,>=4.4.0 in /Library/Frameworks/Python.framework/Versions/3.10/lib/python3.10/site-packages (from streamlit) (4.13.2)\r\n",
      "Requirement already satisfied: pydeck<1,>=0.8.0b4 in /Library/Frameworks/Python.framework/Versions/3.10/lib/python3.10/site-packages (from streamlit) (0.9.1)\r\n",
      "Requirement already satisfied: click<9,>=7.0 in /Library/Frameworks/Python.framework/Versions/3.10/lib/python3.10/site-packages (from streamlit) (8.2.1)\r\n"
     ]
    },
    {
     "name": "stdout",
     "output_type": "stream",
     "text": [
      "Requirement already satisfied: jsonschema>=3.0 in /Library/Frameworks/Python.framework/Versions/3.10/lib/python3.10/site-packages (from altair<6,>=4.0->streamlit) (4.23.0)\r\n",
      "Requirement already satisfied: narwhals>=1.14.2 in /Library/Frameworks/Python.framework/Versions/3.10/lib/python3.10/site-packages (from altair<6,>=4.0->streamlit) (1.40.0)\r\n",
      "Requirement already satisfied: jinja2 in /Library/Frameworks/Python.framework/Versions/3.10/lib/python3.10/site-packages (from altair<6,>=4.0->streamlit) (3.1.6)\r\n"
     ]
    },
    {
     "name": "stdout",
     "output_type": "stream",
     "text": [
      "Requirement already satisfied: gitdb<5,>=4.0.1 in /Library/Frameworks/Python.framework/Versions/3.10/lib/python3.10/site-packages (from gitpython!=3.1.19,<4,>=3.0.7->streamlit) (4.0.12)\r\n",
      "Requirement already satisfied: smmap<6,>=3.0.1 in /Library/Frameworks/Python.framework/Versions/3.10/lib/python3.10/site-packages (from gitdb<5,>=4.0.1->gitpython!=3.1.19,<4,>=3.0.7->streamlit) (5.0.2)\r\n"
     ]
    },
    {
     "name": "stdout",
     "output_type": "stream",
     "text": [
      "Requirement already satisfied: requests-oauthlib>=0.7.0 in /Library/Frameworks/Python.framework/Versions/3.10/lib/python3.10/site-packages (from google-auth-oauthlib>=0.4.1->gspread) (2.0.0)\r\n",
      "Requirement already satisfied: pyparsing!=3.0.0,!=3.0.1,!=3.0.2,!=3.0.3,<4,>=2.4.2 in /Library/Frameworks/Python.framework/Versions/3.10/lib/python3.10/site-packages (from httplib2>=0.9.1->oauth2client) (3.2.3)\r\n"
     ]
    },
    {
     "name": "stdout",
     "output_type": "stream",
     "text": [
      "Requirement already satisfied: referencing>=0.28.4 in /Library/Frameworks/Python.framework/Versions/3.10/lib/python3.10/site-packages (from jsonschema>=3.0->altair<6,>=4.0->streamlit) (0.36.2)\r\n",
      "Requirement already satisfied: attrs>=22.2.0 in /Library/Frameworks/Python.framework/Versions/3.10/lib/python3.10/site-packages (from jsonschema>=3.0->altair<6,>=4.0->streamlit) (25.3.0)\r\n",
      "Requirement already satisfied: rpds-py>=0.7.1 in /Library/Frameworks/Python.framework/Versions/3.10/lib/python3.10/site-packages (from jsonschema>=3.0->altair<6,>=4.0->streamlit) (0.25.1)\r\n",
      "Requirement already satisfied: jsonschema-specifications>=2023.03.6 in /Library/Frameworks/Python.framework/Versions/3.10/lib/python3.10/site-packages (from jsonschema>=3.0->altair<6,>=4.0->streamlit) (2025.4.1)\r\n"
     ]
    },
    {
     "name": "stdout",
     "output_type": "stream",
     "text": [
      "Requirement already satisfied: MarkupSafe>=2.0 in /Library/Frameworks/Python.framework/Versions/3.10/lib/python3.10/site-packages (from jinja2->altair<6,>=4.0->streamlit) (3.0.2)\r\n",
      "Requirement already satisfied: oauthlib>=3.0.0 in /Library/Frameworks/Python.framework/Versions/3.10/lib/python3.10/site-packages (from requests-oauthlib>=0.7.0->google-auth-oauthlib>=0.4.1->gspread) (3.2.2)\r\n"
     ]
    },
    {
     "name": "stdout",
     "output_type": "stream",
     "text": [
      "Requirement already satisfied: setuptools in /Library/Frameworks/Python.framework/Versions/3.10/lib/python3.10/site-packages (from zope.interface->datetime) (57.4.0)\r\n"
     ]
    },
    {
     "name": "stdout",
     "output_type": "stream",
     "text": [
      "\u001b[33mWARNING: You are using pip version 21.2.3; however, version 25.1.1 is available.\r\n",
      "You should consider upgrading via the '/Library/Frameworks/Python.framework/Versions/3.10/bin/python3 -m pip install --upgrade pip' command.\u001b[0m\r\n"
     ]
    },
    {
     "name": "stdout",
     "output_type": "stream",
     "text": [
      "Note: you may need to restart the kernel to use updated packages.\n"
     ]
    }
   ],
   "source": [
    "pip install numpy pandas icalendar datetime requests gspread oauth2client streamlit"
   ]
  },
  {
   "cell_type": "code",
   "execution_count": 2,
   "id": "078ad0b1",
   "metadata": {
    "execution": {
     "iopub.execute_input": "2025-06-01T01:45:35.126171Z",
     "iopub.status.busy": "2025-06-01T01:45:35.125721Z",
     "iopub.status.idle": "2025-06-01T01:45:36.648528Z",
     "shell.execute_reply": "2025-06-01T01:45:36.647573Z"
    },
    "papermill": {
     "duration": 1.530366,
     "end_time": "2025-06-01T01:45:36.650956",
     "exception": false,
     "start_time": "2025-06-01T01:45:35.120590",
     "status": "completed"
    },
    "tags": []
   },
   "outputs": [],
   "source": [
    "import pandas as pd\n",
    "import requests\n",
    "from icalendar import Calendar\n",
    "from datetime import datetime\n",
    "import gspread\n",
    "from oauth2client.service_account import ServiceAccountCredentials\n"
   ]
  },
  {
   "cell_type": "code",
   "execution_count": 3,
   "id": "ebe01cc8",
   "metadata": {
    "execution": {
     "iopub.execute_input": "2025-06-01T01:45:36.660720Z",
     "iopub.status.busy": "2025-06-01T01:45:36.660194Z",
     "iopub.status.idle": "2025-06-01T01:45:36.734257Z",
     "shell.execute_reply": "2025-06-01T01:45:36.733309Z"
    },
    "papermill": {
     "duration": 0.081457,
     "end_time": "2025-06-01T01:45:36.736449",
     "exception": false,
     "start_time": "2025-06-01T01:45:36.654992",
     "status": "completed"
    },
    "tags": []
   },
   "outputs": [],
   "source": [
    "## Creando Lista  \n",
    "\n",
    "suites = [\n",
    "    # 18-12 Norte\n",
    "    {\n",
    "        \"nombre\": \"18-12 Norte\",\n",
    "        \"source\": \"Airbnb\",\n",
    "        \"ical_url\": \"https://www.airbnb.mx/calendar/ical/32758735.ics?s=98721226ff4c0c3b865cae7ac16d8e89\"\n",
    "    },\n",
    "    {\n",
    "        \"nombre\": \"18-12 Norte\",\n",
    "        \"source\": \"Booking\",\n",
    "        \"ical_url\": \"https://ical.booking.com/v1/export?t=9e89e173-023e-447b-82a0-0695db7a6bcb\"\n",
    "    },\n",
    "    {\n",
    "        \"nombre\": \"18-12 Norte\",\n",
    "        \"source\": \"YourRentals\",\n",
    "        \"ical_url\": \"https://ical.your.rentals/export/ical/gvE0D7rMyGlknYBXjb634Pa19NVxdeWo/es.ics\"\n",
    "    },\n",
    "    # 29-01 sur\n",
    "    {\n",
    "        \"nombre\": \"29-01 sur\",\n",
    "        \"source\": \"Airbnb\",\n",
    "        \"ical_url\": \"https://www.airbnb.mx/calendar/ical/22434812.ics?s=27001739083c866e024d68c1104aecaf\"\n",
    "    },\n",
    "    {\n",
    "        \"nombre\": \"29-01 sur\",\n",
    "        \"source\": \"Booking\",\n",
    "        \"ical_url\": \"https://ical.booking.com/v1/export?t=ecd9face-5639-4e3a-83e7-b448e25383ee\"\n",
    "    },\n",
    "    {\n",
    "        \"nombre\": \"29-01 sur\",\n",
    "        \"source\": \"YourRentals\",\n",
    "        \"ical_url\": \"https://ical.your.rentals/export/ical/0xqk1n2Kjlveamgg7vmNLBE4PrwGRW9y/es.ics\"\n",
    "    },\n",
    "\n",
    "    # 22-12 sur\n",
    "    {\n",
    "        \"nombre\": \"22-12 sur\",\n",
    "        \"source\": \"Airbnb\",\n",
    "        \"ical_url\": \"https://www.airbnb.mx/calendar/ical/34753522.ics?s=beda0f2b2017e07d28a856037e7bd28e\"\n",
    "    },\n",
    "    {\n",
    "        \"nombre\": \"22-12 sur\",\n",
    "        \"source\": \"Booking\",\n",
    "        \"ical_url\": \"https://ical.booking.com/v1/export?t=6bb194ac-6f2f-4a97-bc03-71cdab43256b\"\n",
    "    },\n",
    "    {\n",
    "        \"nombre\": \"22-12 sur\",\n",
    "        \"source\": \"YourRentals\",\n",
    "        \"ical_url\": \"https://ical.your.rentals/export/ical/4xqN9XpJVaZ3L6P7ZwArOWR2QP8gobK1/es.ics\"\n",
    "    },\n",
    "\n",
    "    # Junior 18\n",
    "    {\n",
    "        \"nombre\": \"Junior 18\",\n",
    "        \"source\": \"Airbnb\",\n",
    "        \"ical_url\": \"https://www.airbnb.mx/calendar/ical/851755377346761806.ics?s=d2266cb885d5c2204383f4886574d4b6\"\n",
    "    },\n",
    "    {\n",
    "        \"nombre\": \"Junior 18\",\n",
    "        \"source\": \"Booking\",\n",
    "        \"ical_url\": \"https://ical.booking.com/v1/export?t=8f10f2c5-d3cd-4d5c-a765-0e097fd3a794\"\n",
    "    },\n",
    "    {\n",
    "        \"nombre\": \"Junior 18\",\n",
    "        \"source\": \"YourRentals\",\n",
    "        \"ical_url\": \"https://ical.your.rentals/export/ical/7RNoqPJa5jG1E6elNnADy28lOxeZW3v4/es.ics\"\n",
    "    },\n",
    "\n",
    "    # 29-03 norte\n",
    "    {\n",
    "        \"nombre\": \"29-03 norte\",\n",
    "        \"source\": \"Airbnb\",\n",
    "        \"ical_url\": \"https://www.airbnb.mx/calendar/ical/654457244087646792.ics?s=b9e66c1ee5a77a89992ab193d3082135\"\n",
    "    },\n",
    "    {\n",
    "        \"nombre\": \"29-03 norte\",\n",
    "        \"source\": \"Booking\",\n",
    "        \"ical_url\": \"https://admin.booking.com/hotel/hoteladmin/ical.html?t=3e3dd03e-ef6b-49d4-a984-8fce12889090\"\n",
    "    },\n",
    "    {\n",
    "        \"nombre\": \"29-03 norte\",\n",
    "        \"source\": \"YourRentals\",\n",
    "        \"ical_url\": \"https://ical.your.rentals/export/ical/Q2aBGd3rM0gyRmKQvnAv1KzbjD7lnJxq/es.ics?includeSyncBooking=true\"\n",
    "    },\n",
    "\n",
    "    # 27-12 sur\n",
    "    {\n",
    "        \"nombre\": \"27-12 sur\",\n",
    "        \"source\": \"Airbnb\",\n",
    "        \"ical_url\": \"https://www.airbnb.mx/calendar/ical/1417010621333924647.ics?s=4a3f20d6fee1fb7f12bdb76f8abacc86\"\n",
    "    },\n",
    "    {\n",
    "        \"nombre\": \"27-12 sur\",\n",
    "        \"source\": \"Booking\",\n",
    "        \"ical_url\": \"https://ical.booking.com/v1/export?t=2b9c3e2d-bdd9-4478-8f2e-12b355aaf540\"\n",
    "    },\n",
    "\n",
    "    # 26-05 sur\n",
    "    {\n",
    "        \"nombre\": \"26-05 sur\",\n",
    "        \"source\": \"Airbnb\",\n",
    "        \"ical_url\": \"https://www.airbnb.mx/calendar/ical/33251926.ics?s=6144a4587c292b7f50cc1d381748cd8e\"\n",
    "    },\n",
    "    {\n",
    "        \"nombre\": \"26-05 sur\",\n",
    "        \"source\": \"Booking\",\n",
    "        \"ical_url\": \"https://ical.booking.com/v1/export?t=4de792e8-d365-47d3-bf55-2cec1a73464b\"\n",
    "    },\n",
    "    {\n",
    "        \"nombre\": \"26-05 sur\",\n",
    "        \"source\": \"Your rentals\",\n",
    "        \"ical_url\": \"https://ical.booking.com/v1/export?t=2b9c3e2d-bdd9-4478-8f2e-12b355aaf540\"\n",
    "    },\n",
    "    # 17 -06 sur\n",
    "    {\n",
    "        \"nombre\": \"17-06 sur\",\n",
    "        \"source\": \"Airbnb\",\n",
    "        \"ical_url\": \"https://www.airbnb.com/calendar/ical/1377158023850429050.ics?s=460c890c8bd311f43500fa46f07612e2&locale=es-419\"\n",
    "    },\n",
    "    # 17 -07 sur\n",
    "    {\n",
    "        \"nombre\": \"17-07 sur\",\n",
    "        \"source\": \"Airbnb\",\n",
    "        \"ical_url\": \"https://www.airbnb.com/calendar/ical/1377162476379722855.ics?s=a45790262096fa0a08db58dffcc2656d&locale=es-419\"\n",
    "    },\n",
    "    # 910 sur\n",
    "    {\n",
    "        \"nombre\": \"910 sur\",\n",
    "        \"source\": \"Airbnb\",\n",
    "        \"ical_url\": \"https://www.airbnb.com/calendar/ical/1365410402657659090.ics?s=35693e183e386e505fdbd79a2dc4e144&locale=es-419\"\n",
    "    },\n",
    "    # 11-09 sur\n",
    "    {\n",
    "        \"nombre\": \"11-09 sur\",\n",
    "        \"source\": \"Airbnb\",\n",
    "        \"ical_url\": \"https://www.airbnb.com/calendar/ical/1372634075367142443.ics?s=db8ba5e9fe4403e97f5c105fe3c12bef&locale=es-419\"\n",
    "    }\n",
    "]\n"
   ]
  },
  {
   "cell_type": "code",
   "execution_count": 4,
   "id": "5ed9c061",
   "metadata": {
    "execution": {
     "iopub.execute_input": "2025-06-01T01:45:36.745572Z",
     "iopub.status.busy": "2025-06-01T01:45:36.745164Z",
     "iopub.status.idle": "2025-06-01T01:45:36.751691Z",
     "shell.execute_reply": "2025-06-01T01:45:36.750746Z"
    },
    "papermill": {
     "duration": 0.013572,
     "end_time": "2025-06-01T01:45:36.753885",
     "exception": false,
     "start_time": "2025-06-01T01:45:36.740313",
     "status": "completed"
    },
    "tags": []
   },
   "outputs": [],
   "source": [
    "def fetch_ical_events(url, source_name, property_name):\n",
    "    res = requests.get(url)\n",
    "    cal = Calendar.from_ical(res.text)\n",
    "    events = []\n",
    "\n",
    "    for component in cal.walk():\n",
    "        if component.name == \"VEVENT\":\n",
    "            start = component.get('dtstart').dt\n",
    "            end = component.get('dtend').dt\n",
    "            summary = str(component.get('summary')) if component.get('summary') else ''\n",
    "            events.append({\n",
    "                \"property_name\": property_name,\n",
    "                \"start_date\": pd.to_datetime(start),\n",
    "                \"end_date\": pd.to_datetime(end),\n",
    "                \"summary\": summary,\n",
    "                \"source\": source_name\n",
    "            })\n",
    "\n",
    "    return events\n"
   ]
  },
  {
   "cell_type": "code",
   "execution_count": 5,
   "id": "c9ea5a65",
   "metadata": {
    "execution": {
     "iopub.execute_input": "2025-06-01T01:45:36.763128Z",
     "iopub.status.busy": "2025-06-01T01:45:36.762726Z",
     "iopub.status.idle": "2025-06-01T01:45:56.262547Z",
     "shell.execute_reply": "2025-06-01T01:45:56.261312Z"
    },
    "papermill": {
     "duration": 19.506987,
     "end_time": "2025-06-01T01:45:56.264801",
     "exception": false,
     "start_time": "2025-06-01T01:45:36.757814",
     "status": "completed"
    },
    "tags": []
   },
   "outputs": [
    {
     "name": "stdout",
     "output_type": "stream",
     "text": [
      "    property_name  start_date    end_date                 summary   source\n",
      "168     11-09 sur  2025-05-29  2025-06-02                Reserved   Airbnb\n",
      "169     11-09 sur  2025-06-02  2025-06-06                Reserved   Airbnb\n",
      "170     11-09 sur  2025-06-06  2025-06-09                Reserved   Airbnb\n",
      "171     11-09 sur  2025-06-11  2025-06-13                Reserved   Airbnb\n",
      "173     11-09 sur  2025-06-30  2025-07-04  Airbnb (Not available)   Airbnb\n",
      "..            ...         ...         ...                     ...      ...\n",
      "85      Junior 18  2025-06-15  2025-06-18                Reserved   Airbnb\n",
      "89      Junior 18  2025-06-27  2025-06-29  CLOSED - Not available  Booking\n",
      "90      Junior 18  2025-07-19  2025-07-21  CLOSED - Not available  Booking\n",
      "86      Junior 18  2025-08-29  2026-06-02  Airbnb (Not available)   Airbnb\n",
      "91      Junior 18  2026-06-02  2026-12-01  CLOSED - Not available  Booking\n",
      "\n",
      "[176 rows x 5 columns]\n"
     ]
    }
   ],
   "source": [
    "all_events = []\n",
    "\n",
    "for suite in suites:\n",
    "    eventos = fetch_ical_events(\n",
    "        url=suite['ical_url'],\n",
    "        source_name=suite['source'],\n",
    "        property_name=suite['nombre']\n",
    "    )\n",
    "    all_events.extend(eventos)\n",
    "\n",
    "# Convertir a DataFrame\n",
    "df = pd.DataFrame(all_events)\n",
    "\n",
    "# Ordenar por fecha\n",
    "df = df.sort_values(by=['property_name', 'start_date'])\n",
    "df['start_date'] = df['start_date'].dt.strftime('%Y-%m-%d')\n",
    "df['end_date'] = df['end_date'].dt.strftime('%Y-%m-%d')\n",
    "\n",
    "# Guardar\n",
    "df.to_csv('/Users/ricardomosqueira/Downloads/calendario_todas_suites.csv', index=False)\n",
    "\n",
    "print(df)"
   ]
  },
  {
   "cell_type": "code",
   "execution_count": 6,
   "id": "5bf57b3b",
   "metadata": {
    "execution": {
     "iopub.execute_input": "2025-06-01T01:45:56.275896Z",
     "iopub.status.busy": "2025-06-01T01:45:56.275497Z",
     "iopub.status.idle": "2025-06-01T01:45:56.296806Z",
     "shell.execute_reply": "2025-06-01T01:45:56.295750Z"
    },
    "papermill": {
     "duration": 0.028773,
     "end_time": "2025-06-01T01:45:56.299014",
     "exception": false,
     "start_time": "2025-06-01T01:45:56.270241",
     "status": "completed"
    },
    "tags": []
   },
   "outputs": [
    {
     "data": {
      "text/html": [
       "<div>\n",
       "<style scoped>\n",
       "    .dataframe tbody tr th:only-of-type {\n",
       "        vertical-align: middle;\n",
       "    }\n",
       "\n",
       "    .dataframe tbody tr th {\n",
       "        vertical-align: top;\n",
       "    }\n",
       "\n",
       "    .dataframe thead th {\n",
       "        text-align: right;\n",
       "    }\n",
       "</style>\n",
       "<table border=\"1\" class=\"dataframe\">\n",
       "  <thead>\n",
       "    <tr style=\"text-align: right;\">\n",
       "      <th></th>\n",
       "      <th>property_name</th>\n",
       "      <th>start_date</th>\n",
       "      <th>end_date</th>\n",
       "      <th>summary</th>\n",
       "      <th>source</th>\n",
       "    </tr>\n",
       "  </thead>\n",
       "  <tbody>\n",
       "    <tr>\n",
       "      <th>80</th>\n",
       "      <td>27-12 sur</td>\n",
       "      <td>2025-05-30</td>\n",
       "      <td>2025-06-01</td>\n",
       "      <td>Reserved</td>\n",
       "      <td>Airbnb</td>\n",
       "    </tr>\n",
       "    <tr>\n",
       "      <th>81</th>\n",
       "      <td>27-12 sur</td>\n",
       "      <td>2025-06-01</td>\n",
       "      <td>2025-06-06</td>\n",
       "      <td>Airbnb (Not available)</td>\n",
       "      <td>Airbnb</td>\n",
       "    </tr>\n",
       "    <tr>\n",
       "      <th>82</th>\n",
       "      <td>27-12 sur</td>\n",
       "      <td>2025-06-09</td>\n",
       "      <td>2025-06-13</td>\n",
       "      <td>Airbnb (Not available)</td>\n",
       "      <td>Airbnb</td>\n",
       "    </tr>\n",
       "    <tr>\n",
       "      <th>83</th>\n",
       "      <td>27-12 sur</td>\n",
       "      <td>2025-06-23</td>\n",
       "      <td>2025-06-26</td>\n",
       "      <td>Airbnb (Not available)</td>\n",
       "      <td>Airbnb</td>\n",
       "    </tr>\n",
       "    <tr>\n",
       "      <th>84</th>\n",
       "      <td>27-12 sur</td>\n",
       "      <td>2025-07-18</td>\n",
       "      <td>2025-07-21</td>\n",
       "      <td>Airbnb (Not available)</td>\n",
       "      <td>Airbnb</td>\n",
       "    </tr>\n",
       "    <tr>\n",
       "      <th>85</th>\n",
       "      <td>27-12 sur</td>\n",
       "      <td>2025-08-29</td>\n",
       "      <td>2026-06-02</td>\n",
       "      <td>Airbnb (Not available)</td>\n",
       "      <td>Airbnb</td>\n",
       "    </tr>\n",
       "  </tbody>\n",
       "</table>\n",
       "</div>"
      ],
      "text/plain": [
       "   property_name  start_date    end_date                 summary  source\n",
       "80     27-12 sur  2025-05-30  2025-06-01                Reserved  Airbnb\n",
       "81     27-12 sur  2025-06-01  2025-06-06  Airbnb (Not available)  Airbnb\n",
       "82     27-12 sur  2025-06-09  2025-06-13  Airbnb (Not available)  Airbnb\n",
       "83     27-12 sur  2025-06-23  2025-06-26  Airbnb (Not available)  Airbnb\n",
       "84     27-12 sur  2025-07-18  2025-07-21  Airbnb (Not available)  Airbnb\n",
       "85     27-12 sur  2025-08-29  2026-06-02  Airbnb (Not available)  Airbnb"
      ]
     },
     "execution_count": 6,
     "metadata": {},
     "output_type": "execute_result"
    }
   ],
   "source": [
    "data_calendar = pd.read_csv('/Users/ricardomosqueira/Downloads/calendario_todas_suites.csv')\n",
    "suite_27_12sur_data =  data_calendar[data_calendar['property_name'] == '27-12 sur']\n",
    "suite_27_12sur_data.shape\n",
    "suite_27_12sur_data\n"
   ]
  },
  {
   "cell_type": "code",
   "execution_count": 7,
   "id": "a7468ec6",
   "metadata": {
    "execution": {
     "iopub.execute_input": "2025-06-01T01:45:56.312850Z",
     "iopub.status.busy": "2025-06-01T01:45:56.312307Z",
     "iopub.status.idle": "2025-06-01T01:45:56.354894Z",
     "shell.execute_reply": "2025-06-01T01:45:56.353975Z"
    },
    "papermill": {
     "duration": 0.054066,
     "end_time": "2025-06-01T01:45:56.357289",
     "exception": false,
     "start_time": "2025-06-01T01:45:56.303223",
     "status": "completed"
    },
    "tags": []
   },
   "outputs": [
    {
     "name": "stdout",
     "output_type": "stream",
     "text": [
      "✅ Histórico actualizado correctamente.\n",
      "➡️ Total de registros: 194\n"
     ]
    }
   ],
   "source": [
    "# Convertir a DataFrame\n",
    "df = pd.DataFrame(all_events)\n",
    "\n",
    "# Asegurar que las fechas estén en formato datetime.date\n",
    "df['start_date'] = pd.to_datetime(df['start_date']).dt.date\n",
    "df['end_date'] = pd.to_datetime(df['end_date']).dt.date\n",
    "\n",
    "# Guardar copia general (opcional)\n",
    "df.sort_values(by=['property_name', 'start_date']).to_csv(\"calendario_todas_suites.csv\", index=False)\n",
    "\n",
    "# Cargar histórico\n",
    "try:\n",
    "    df_hist = pd.read_csv(\"historico_reservas.csv\", parse_dates=[\"start_date\", \"end_date\"])\n",
    "    df_hist[\"start_date\"] = pd.to_datetime(df_hist[\"start_date\"]).dt.date\n",
    "    df_hist[\"end_date\"] = pd.to_datetime(df_hist[\"end_date\"]).dt.date\n",
    "except FileNotFoundError:\n",
    "    df_hist = pd.DataFrame(columns=df.columns)\n",
    "\n",
    "# Separar reservas pasadas y futuras\n",
    "hoy = datetime.today().date()\n",
    "hist_pasadas = df_hist[df_hist[\"end_date\"] < hoy]\n",
    "futuras_actualizadas = df[df[\"end_date\"] >= hoy]\n",
    "\n",
    "# Concatenar y guardar\n",
    "df_final = pd.concat([hist_pasadas, futuras_actualizadas], ignore_index=True)\n",
    "df_final = df_final[df_final['property_name'] != 'Depto. nuevo con vista al mar']\n",
    "df_final['property_name'] = df_final['property_name'].replace('Bonita Suite Torres Gemelas Playa', '29-01 sur')\n",
    "df_final['property_name'] = df_final['property_name'].replace('Espectacular suite Torres Gemelas Playa', '22-12 sur')\n",
    "\n",
    "df_final = df_final.drop_duplicates(subset=[\"property_name\", \"start_date\", \"end_date\", \"source\", \"summary\"])\n",
    "## df_final.to_csv(\"/Users/ricardomosqueira/historico_reservas.csv\", index=False)\n",
    "import os\n",
    "path = os.path.join(os.getcwd(), \"historico_reservas.csv\")\n",
    "df_final.to_csv(path, index=False)\n",
    "\n",
    "\n",
    "print(\"✅ Histórico actualizado correctamente.\")\n",
    "print(f\"➡️ Total de registros: {len(df_final)}\")\n"
   ]
  },
  {
   "cell_type": "code",
   "execution_count": 8,
   "id": "b66ed5af",
   "metadata": {
    "execution": {
     "iopub.execute_input": "2025-06-01T01:45:56.367432Z",
     "iopub.status.busy": "2025-06-01T01:45:56.367025Z",
     "iopub.status.idle": "2025-06-01T01:45:56.396485Z",
     "shell.execute_reply": "2025-06-01T01:45:56.395456Z"
    },
    "papermill": {
     "duration": 0.037178,
     "end_time": "2025-06-01T01:45:56.398718",
     "exception": false,
     "start_time": "2025-06-01T01:45:56.361540",
     "status": "completed"
    },
    "tags": []
   },
   "outputs": [
    {
     "name": "stdout",
     "output_type": "stream",
     "text": [
      "Eventos que estaban antes y ahora faltan:\n",
      "    property_name  start_date    end_date summary       source\n",
      "132   29-03 norte  2023-08-10  2023-08-13  E2BNIS  YourRentals\n",
      "133   29-03 norte  2023-11-23  2023-12-02  82DWIU  YourRentals\n",
      "134   29-03 norte  2023-12-05  2023-12-08  GQH9ZQ  YourRentals\n",
      "135   29-03 norte  2023-12-11  2023-12-15  NVUW4F  YourRentals\n",
      "136   29-03 norte  2024-05-31  2024-06-05  A1V7ZJ  YourRentals\n",
      "    property_name  start_date    end_date                 summary       source\n",
      "0     18-12 Norte  2018-11-09  2018-11-16                  P2FEU4  YourRentals\n",
      "1     18-12 Norte  2018-12-26  2019-01-01                  KS6NMY  YourRentals\n",
      "2     18-12 Norte  2024-01-26  2024-01-28                  ODQQCE  YourRentals\n",
      "3     18-12 Norte  2019-01-01  2019-07-16                  JOPTXK  YourRentals\n",
      "4     18-12 Norte  2023-04-03  2023-04-07                  TN1UBP  YourRentals\n",
      "..            ...         ...         ...                     ...          ...\n",
      "189     11-09 sur  2025-06-11  2025-06-13                Reserved       Airbnb\n",
      "190     11-09 sur  2025-07-22  2025-07-25                Reserved       Airbnb\n",
      "191     11-09 sur  2025-06-30  2025-07-04  Airbnb (Not available)       Airbnb\n",
      "192     11-09 sur  2025-07-18  2025-07-21  Airbnb (Not available)       Airbnb\n",
      "193     11-09 sur  2025-11-27  2026-06-02  Airbnb (Not available)       Airbnb\n",
      "\n",
      "[194 rows x 5 columns]\n"
     ]
    }
   ],
   "source": [
    "# Carga ambos archivos\n",
    "df_viejo = pd.read_csv(\"/Users/ricardomosqueira/Downloads/calendario_todas_suites.csv\")  # anterior\n",
    "df_nuevo = pd.read_csv(\"historico_reservas.csv\")        # nuevo acumulado\n",
    "\n",
    "# Compara qué eventos están en el viejo y no en el nuevo\n",
    "df_diff = pd.merge(df_viejo, df_nuevo, how='outer', indicator=True)\n",
    "df_faltantes = df_diff[df_diff['_merge'] == 'left_only']\n",
    "\n",
    "print(\"Eventos que estaban antes y ahora faltan:\")\n",
    "print(df_faltantes[['property_name', 'start_date', 'end_date', 'summary', 'source']])\n",
    "print(df_final)\n",
    "\n"
   ]
  },
  {
   "cell_type": "code",
   "execution_count": 9,
   "id": "0cac1cce",
   "metadata": {
    "execution": {
     "iopub.execute_input": "2025-06-01T01:45:56.410163Z",
     "iopub.status.busy": "2025-06-01T01:45:56.409763Z",
     "iopub.status.idle": "2025-06-01T01:45:56.426407Z",
     "shell.execute_reply": "2025-06-01T01:45:56.424974Z"
    },
    "papermill": {
     "duration": 0.02614,
     "end_time": "2025-06-01T01:45:56.429372",
     "exception": false,
     "start_time": "2025-06-01T01:45:56.403232",
     "status": "completed"
    },
    "tags": []
   },
   "outputs": [
    {
     "data": {
      "text/html": [
       "<div>\n",
       "<style scoped>\n",
       "    .dataframe tbody tr th:only-of-type {\n",
       "        vertical-align: middle;\n",
       "    }\n",
       "\n",
       "    .dataframe tbody tr th {\n",
       "        vertical-align: top;\n",
       "    }\n",
       "\n",
       "    .dataframe thead th {\n",
       "        text-align: right;\n",
       "    }\n",
       "</style>\n",
       "<table border=\"1\" class=\"dataframe\">\n",
       "  <thead>\n",
       "    <tr style=\"text-align: right;\">\n",
       "      <th></th>\n",
       "      <th>property_name</th>\n",
       "      <th>start_date</th>\n",
       "      <th>end_date</th>\n",
       "      <th>summary</th>\n",
       "      <th>source</th>\n",
       "      <th>nights_cnt</th>\n",
       "    </tr>\n",
       "  </thead>\n",
       "  <tbody>\n",
       "    <tr>\n",
       "      <th>55</th>\n",
       "      <td>27-12 sur</td>\n",
       "      <td>2025-05-21</td>\n",
       "      <td>2025-05-24</td>\n",
       "      <td>Reserved</td>\n",
       "      <td>Airbnb</td>\n",
       "      <td>3 days, 0:00:00</td>\n",
       "    </tr>\n",
       "    <tr>\n",
       "      <th>58</th>\n",
       "      <td>27-12 sur</td>\n",
       "      <td>2025-05-24</td>\n",
       "      <td>2025-05-26</td>\n",
       "      <td>Reserved</td>\n",
       "      <td>Airbnb</td>\n",
       "      <td>2 days, 0:00:00</td>\n",
       "    </tr>\n",
       "    <tr>\n",
       "      <th>149</th>\n",
       "      <td>27-12 sur</td>\n",
       "      <td>2025-05-30</td>\n",
       "      <td>2025-06-01</td>\n",
       "      <td>Reserved</td>\n",
       "      <td>Airbnb</td>\n",
       "      <td>2 days, 0:00:00</td>\n",
       "    </tr>\n",
       "    <tr>\n",
       "      <th>150</th>\n",
       "      <td>27-12 sur</td>\n",
       "      <td>2025-06-01</td>\n",
       "      <td>2025-06-06</td>\n",
       "      <td>Airbnb (Not available)</td>\n",
       "      <td>Airbnb</td>\n",
       "      <td>5 days, 0:00:00</td>\n",
       "    </tr>\n",
       "    <tr>\n",
       "      <th>151</th>\n",
       "      <td>27-12 sur</td>\n",
       "      <td>2025-06-09</td>\n",
       "      <td>2025-06-13</td>\n",
       "      <td>Airbnb (Not available)</td>\n",
       "      <td>Airbnb</td>\n",
       "      <td>4 days, 0:00:00</td>\n",
       "    </tr>\n",
       "    <tr>\n",
       "      <th>152</th>\n",
       "      <td>27-12 sur</td>\n",
       "      <td>2025-06-23</td>\n",
       "      <td>2025-06-26</td>\n",
       "      <td>Airbnb (Not available)</td>\n",
       "      <td>Airbnb</td>\n",
       "      <td>3 days, 0:00:00</td>\n",
       "    </tr>\n",
       "    <tr>\n",
       "      <th>153</th>\n",
       "      <td>27-12 sur</td>\n",
       "      <td>2025-07-18</td>\n",
       "      <td>2025-07-21</td>\n",
       "      <td>Airbnb (Not available)</td>\n",
       "      <td>Airbnb</td>\n",
       "      <td>3 days, 0:00:00</td>\n",
       "    </tr>\n",
       "    <tr>\n",
       "      <th>154</th>\n",
       "      <td>27-12 sur</td>\n",
       "      <td>2025-08-29</td>\n",
       "      <td>2026-06-02</td>\n",
       "      <td>Airbnb (Not available)</td>\n",
       "      <td>Airbnb</td>\n",
       "      <td>277 days, 0:00:00</td>\n",
       "    </tr>\n",
       "  </tbody>\n",
       "</table>\n",
       "</div>"
      ],
      "text/plain": [
       "    property_name  start_date    end_date                 summary  source  \\\n",
       "55      27-12 sur  2025-05-21  2025-05-24                Reserved  Airbnb   \n",
       "58      27-12 sur  2025-05-24  2025-05-26                Reserved  Airbnb   \n",
       "149     27-12 sur  2025-05-30  2025-06-01                Reserved  Airbnb   \n",
       "150     27-12 sur  2025-06-01  2025-06-06  Airbnb (Not available)  Airbnb   \n",
       "151     27-12 sur  2025-06-09  2025-06-13  Airbnb (Not available)  Airbnb   \n",
       "152     27-12 sur  2025-06-23  2025-06-26  Airbnb (Not available)  Airbnb   \n",
       "153     27-12 sur  2025-07-18  2025-07-21  Airbnb (Not available)  Airbnb   \n",
       "154     27-12 sur  2025-08-29  2026-06-02  Airbnb (Not available)  Airbnb   \n",
       "\n",
       "            nights_cnt  \n",
       "55     3 days, 0:00:00  \n",
       "58     2 days, 0:00:00  \n",
       "149    2 days, 0:00:00  \n",
       "150    5 days, 0:00:00  \n",
       "151    4 days, 0:00:00  \n",
       "152    3 days, 0:00:00  \n",
       "153    3 days, 0:00:00  \n",
       "154  277 days, 0:00:00  "
      ]
     },
     "execution_count": 9,
     "metadata": {},
     "output_type": "execute_result"
    }
   ],
   "source": [
    "df_final['nights_cnt'] = df_final['end_date'] - df_final['start_date']\n",
    "df_final[df_final['property_name'] == '27-12 sur'].sort_values('start_date')"
   ]
  },
  {
   "cell_type": "code",
   "execution_count": 10,
   "id": "8ccd23a4",
   "metadata": {
    "execution": {
     "iopub.execute_input": "2025-06-01T01:45:56.442994Z",
     "iopub.status.busy": "2025-06-01T01:45:56.442594Z",
     "iopub.status.idle": "2025-06-01T01:45:56.452371Z",
     "shell.execute_reply": "2025-06-01T01:45:56.451299Z"
    },
    "papermill": {
     "duration": 0.019555,
     "end_time": "2025-06-01T01:45:56.454545",
     "exception": false,
     "start_time": "2025-06-01T01:45:56.434990",
     "status": "completed"
    },
    "tags": []
   },
   "outputs": [
    {
     "data": {
      "text/plain": [
       "array(['18-12 Norte', '29-01 sur', '22-12 sur', 'Junior 18', '27-12 sur',\n",
       "       '910 sur', '11-09 sur', '29-03 norte', '26-05 sur', '17-06 sur',\n",
       "       '17-07 sur'], dtype=object)"
      ]
     },
     "execution_count": 10,
     "metadata": {},
     "output_type": "execute_result"
    }
   ],
   "source": [
    "pd.read_csv(\"/Users/ricardomosqueira/historico_reservas.csv\")['property_name'].unique()\n"
   ]
  }
 ],
 "metadata": {
  "interpreter": {
   "hash": "98590ff4fe04c8543246b2a01debd3de3c5ca9b666f43f1fa87d5110c692004c"
  },
  "kernelspec": {
   "display_name": "Python 3.10.0 64-bit",
   "language": "python",
   "name": "python3"
  },
  "language_info": {
   "codemirror_mode": {
    "name": "ipython",
    "version": 3
   },
   "file_extension": ".py",
   "mimetype": "text/x-python",
   "name": "python",
   "nbconvert_exporter": "python",
   "pygments_lexer": "ipython3",
   "version": "3.10.0"
  },
  "papermill": {
   "default_parameters": {},
   "duration": 26.456515,
   "end_time": "2025-06-01T01:45:56.983392",
   "environment_variables": {},
   "exception": null,
   "input_path": "calendars_script.ipynb",
   "output_path": "output_calendars.ipynb",
   "parameters": {},
   "start_time": "2025-06-01T01:45:30.526877",
   "version": "2.6.0"
  }
 },
 "nbformat": 4,
 "nbformat_minor": 5
}